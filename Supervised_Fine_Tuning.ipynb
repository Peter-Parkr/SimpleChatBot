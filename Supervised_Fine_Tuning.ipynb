{
  "cells": [
    {
      "cell_type": "markdown",
      "source": [
        "### 1. 克隆项目"
      ],
      "metadata": {
        "id": "S8o_ckhm9XsR"
      }
    },
    {
      "cell_type": "code",
      "execution_count": null,
      "metadata": {
        "id": "acuPe2lZhgsH"
      },
      "outputs": [],
      "source": [
        "!git clone https://github.com/hiyouga/LLaMA-Factory"
      ]
    },
    {
      "cell_type": "markdown",
      "source": [
        "### 2. 环境搭建"
      ],
      "metadata": {
        "id": "XFzNqrd3_ZQ2"
      }
    },
    {
      "cell_type": "code",
      "execution_count": null,
      "metadata": {
        "id": "ecJM4joThxwW"
      },
      "outputs": [],
      "source": [
        "%cd LLaMA-Factory"
      ]
    },
    {
      "cell_type": "code",
      "execution_count": null,
      "metadata": {
        "id": "j5kW9-ZSh_bq"
      },
      "outputs": [],
      "source": [
        "!pip install -r requirements.txt"
      ]
    },
    {
      "cell_type": "code",
      "execution_count": null,
      "metadata": {
        "id": "HIrIlF0iiFPV"
      },
      "outputs": [],
      "source": [
        "!pip install einops transformers_stream_generator"
      ]
    },
    {
      "cell_type": "markdown",
      "metadata": {
        "id": "C6N7Ij_bkIfi"
      },
      "source": [
        "### 3. 制作简单的数据集"
      ]
    },
    {
      "cell_type": "code",
      "execution_count": 2,
      "metadata": {
        "id": "WlzplLL6isFy"
      },
      "outputs": [],
      "source": [
        "!sed -i 's/<NAME>/医疗小助手/' data/self_cognition.json\n",
        "!sed -i 's/<AUTHOR>/pjr/' data/self_cognition.json"
      ]
    },
    {
      "cell_type": "markdown",
      "metadata": {
        "id": "OnSPwVFGkENE"
      },
      "source": [
        "###4.开始训练"
      ]
    },
    {
      "cell_type": "code",
      "execution_count": 3,
      "metadata": {
        "id": "yIexm8FtkBdp"
      },
      "outputs": [],
      "source": [
        "!sed -i 's/share=False/share=True/' src/train_web.py\n",
        "!sed -i 's/share=False/share=True/' src/web_demo.py"
      ]
    },
    {
      "cell_type": "markdown",
      "metadata": {
        "id": "Ust5yqY1l6v1"
      },
      "source": [
        "### 5. 使用UI进行微调"
      ]
    },
    {
      "cell_type": "code",
      "execution_count": null,
      "metadata": {
        "id": "JAeM_GhwkXDy"
      },
      "outputs": [],
      "source": [
        "!python src/train_web.py"
      ]
    },
    {
      "cell_type": "markdown",
      "source": [
        "### 6. 保存saves目录"
      ],
      "metadata": {
        "id": "u276MBHn_tkY"
      }
    },
    {
      "cell_type": "code",
      "execution_count": null,
      "metadata": {
        "id": "EdWucEnvmH3x"
      },
      "outputs": [],
      "source": [
        "!zip -r cllama13b-part3.zip 'saves/ChineseLLaMA2-1.3B-Chat'"
      ]
    },
    {
      "cell_type": "code",
      "source": [
        "# !pip install bitsandbytes>=0.39.0 命令行微调需要安装这个环境"
      ],
      "metadata": {
        "id": "OMBxpKxOZLCN"
      },
      "execution_count": null,
      "outputs": []
    }
  ],
  "metadata": {
    "accelerator": "GPU",
    "colab": {
      "provenance": [],
      "gpuType": "T4"
    },
    "kernelspec": {
      "display_name": "Python 3",
      "name": "python3"
    },
    "language_info": {
      "name": "python"
    }
  },
  "nbformat": 4,
  "nbformat_minor": 0
}